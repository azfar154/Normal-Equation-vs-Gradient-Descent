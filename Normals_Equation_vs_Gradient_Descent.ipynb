{
  "nbformat": 4,
  "nbformat_minor": 0,
  "metadata": {
    "colab": {
      "name": "Normals Equation vs Gradient Descent.ipynb",
      "provenance": [],
      "authorship_tag": "ABX9TyNVAPIPIa6phZReHFKcHqOY"
    },
    "kernelspec": {
      "name": "python3",
      "display_name": "Python 3"
    }
  },
  "cells": [
    {
      "cell_type": "code",
      "metadata": {
        "id": "aWa6tKPb14e_",
        "colab_type": "code",
        "colab": {}
      },
      "source": [
        "import pandas as pd\n",
        "import numpy as np\n",
        "import matplotlib.pyplot as plt\n",
        "from sklearn.linear_model import LinearRegression\n",
        "from sklearn.model_selection import train_test_split\n",
        "from sklearn.metrics import r2_score"
      ],
      "execution_count": 0,
      "outputs": []
    },
    {
      "cell_type": "code",
      "metadata": {
        "id": "re55MEKZ2x3n",
        "colab_type": "code",
        "colab": {}
      },
      "source": [
        "data = pd.read_excel(\"LR_ML.xlsx\",sheet_name=0)\n",
        "X = data.iloc[:, 0].values\n",
        "Y = data.iloc[:, 1].values"
      ],
      "execution_count": 0,
      "outputs": []
    },
    {
      "cell_type": "code",
      "metadata": {
        "id": "1P_t8N0t5nER",
        "colab_type": "code",
        "colab": {}
      },
      "source": [
        "X_temp = X.copy()\n",
        "y_temp = Y.copy()"
      ],
      "execution_count": 0,
      "outputs": []
    },
    {
      "cell_type": "code",
      "metadata": {
        "id": "Emz8HPC84_rw",
        "colab_type": "code",
        "colab": {
          "base_uri": "https://localhost:8080/",
          "height": 35
        },
        "outputId": "e5f315c3-e006-47c6-9e4d-1be91db7d12b"
      },
      "source": [
        "Y.shape"
      ],
      "execution_count": 352,
      "outputs": [
        {
          "output_type": "execute_result",
          "data": {
            "text/plain": [
              "(30,)"
            ]
          },
          "metadata": {
            "tags": []
          },
          "execution_count": 352
        }
      ]
    },
    {
      "cell_type": "markdown",
      "metadata": {
        "id": "ugWSX75M8NnO",
        "colab_type": "text"
      },
      "source": [
        "Normal Equation doesn't need feature normalization\n"
      ]
    },
    {
      "cell_type": "code",
      "metadata": {
        "id": "7LaNk6063a6s",
        "colab_type": "code",
        "colab": {}
      },
      "source": [
        "bias = np.ones((len(X),1))\n",
        "X = np.reshape(X,(len(X),1))\n",
        "X = np.append(bias,X,axis=1)"
      ],
      "execution_count": 0,
      "outputs": []
    },
    {
      "cell_type": "code",
      "metadata": {
        "id": "shSCmdSC2AHm",
        "colab_type": "code",
        "colab": {}
      },
      "source": [
        "transpose = np.transpose(X)\n",
        "# psuedo inverse the matrix on matrix multiplication\n",
        "# transpose * X_train is a o(n^3) calculation\n",
        "part1 = np.linalg.pinv(np.matmul(transpose,X))"
      ],
      "execution_count": 0,
      "outputs": []
    },
    {
      "cell_type": "code",
      "metadata": {
        "id": "JddgcnH_2ufL",
        "colab_type": "code",
        "colab": {}
      },
      "source": [
        "part2 = transpose.dot(Y)"
      ],
      "execution_count": 0,
      "outputs": []
    },
    {
      "cell_type": "code",
      "metadata": {
        "id": "DYb1L9zy3KrT",
        "colab_type": "code",
        "colab": {}
      },
      "source": [
        "#.  define the weights vector\n",
        "weights = np.matmul(part1,part2)"
      ],
      "execution_count": 0,
      "outputs": []
    },
    {
      "cell_type": "code",
      "metadata": {
        "id": "HAnPwEW13QYy",
        "colab_type": "code",
        "colab": {
          "base_uri": "https://localhost:8080/",
          "height": 35
        },
        "outputId": "b9b287d8-9487-43d8-9b35-a67f6518b9e6"
      },
      "source": [
        "# bias and the weight\n",
        "weights"
      ],
      "execution_count": 357,
      "outputs": [
        {
          "output_type": "execute_result",
          "data": {
            "text/plain": [
              "array([27.53563218, -0.56573971])"
            ]
          },
          "metadata": {
            "tags": []
          },
          "execution_count": 357
        }
      ]
    },
    {
      "cell_type": "code",
      "metadata": {
        "id": "fwUsabWi3ysn",
        "colab_type": "code",
        "colab": {}
      },
      "source": [
        "#.  get the predicted by multiplying the matrix(X) and the vector (weights)\n",
        "predicted_y = X.dot(weights)"
      ],
      "execution_count": 0,
      "outputs": []
    },
    {
      "cell_type": "code",
      "metadata": {
        "id": "1ZO_eSsp5UpJ",
        "colab_type": "code",
        "colab": {
          "base_uri": "https://localhost:8080/",
          "height": 282
        },
        "outputId": "2353f7f0-6aa8-4e91-b752-403441b3990b"
      },
      "source": [
        "plt.scatter(X_temp,y_temp)\n",
        "plt.plot(X_temp,predicted_y)"
      ],
      "execution_count": 359,
      "outputs": [
        {
          "output_type": "execute_result",
          "data": {
            "text/plain": [
              "[<matplotlib.lines.Line2D at 0x7faab2777828>]"
            ]
          },
          "metadata": {
            "tags": []
          },
          "execution_count": 359
        },
        {
          "output_type": "display_data",
          "data": {
            "image/png": "[encoded data removed]",
            "text/plain": [
              "<Figure size 432x288 with 1 Axes>"
            ]
          },
          "metadata": {
            "tags": []
          }
        }
      ]
    },
    {
      "cell_type": "code",
      "metadata": {
        "id": "LmgUdVe07ygq",
        "colab_type": "code",
        "colab": {
          "base_uri": "https://localhost:8080/",
          "height": 35
        },
        "outputId": "d54768b3-ffad-4354-cc03-1bb98a5f2510"
      },
      "source": [
        "r2_score(predicted_y,Y)"
      ],
      "execution_count": 360,
      "outputs": [
        {
          "output_type": "execute_result",
          "data": {
            "text/plain": [
              "0.8831861802659473"
            ]
          },
          "metadata": {
            "tags": []
          },
          "execution_count": 360
        }
      ]
    },
    {
      "cell_type": "code",
      "metadata": {
        "id": "cGtBc6nT9e_Z",
        "colab_type": "code",
        "colab": {
          "base_uri": "https://localhost:8080/",
          "height": 35
        },
        "outputId": "a411b06a-6656-4103-9cee-d7b3d3c8d867"
      },
      "source": [
        "np.mean(np.square(np.subtract(predicted_y,Y)))"
      ],
      "execution_count": 361,
      "outputs": [
        {
          "output_type": "execute_result",
          "data": {
            "text/plain": [
              "2.800954146582622"
            ]
          },
          "metadata": {
            "tags": []
          },
          "execution_count": 361
        }
      ]
    },
    {
      "cell_type": "markdown",
      "metadata": {
        "id": "yzJijYSp8UpY",
        "colab_type": "text"
      },
      "source": [
        "With Feature Normalization the Gradient Descent Algorithm can find the local minima faster"
      ]
    },
    {
      "cell_type": "code",
      "metadata": {
        "id": "JKDkydkn_6yi",
        "colab_type": "code",
        "colab": {}
      },
      "source": [
        "X = data.iloc[:, 0].values\n",
        "Y = data.iloc[:, 1].values"
      ],
      "execution_count": 0,
      "outputs": []
    },
    {
      "cell_type": "code",
      "metadata": {
        "id": "kDtRq4W48cYN",
        "colab_type": "code",
        "colab": {}
      },
      "source": [
        "range_ = X.max() - X.min()\n",
        "X = X - np.average(X)\n",
        "X = X/range_\n"
      ],
      "execution_count": 0,
      "outputs": []
    },
    {
      "cell_type": "code",
      "metadata": {
        "id": "-5yfIl3I7kui",
        "colab_type": "code",
        "colab": {}
      },
      "source": [
        "X = X.reshape(-1,1)\n",
        "Y = Y.reshape(-1,1)"
      ],
      "execution_count": 0,
      "outputs": []
    },
    {
      "cell_type": "code",
      "metadata": {
        "id": "ZOyrwa637HIF",
        "colab_type": "code",
        "colab": {}
      },
      "source": [
        "model = LinearRegression().fit(X,Y)"
      ],
      "execution_count": 0,
      "outputs": []
    },
    {
      "cell_type": "code",
      "metadata": {
        "id": "h6kJqdEb7I2R",
        "colab_type": "code",
        "colab": {
          "base_uri": "https://localhost:8080/",
          "height": 35
        },
        "outputId": "2b61bc24-fdad-4d40-d476-8e9d6baa1cc7"
      },
      "source": [
        "model.score(X,Y)"
      ],
      "execution_count": 348,
      "outputs": [
        {
          "output_type": "execute_result",
          "data": {
            "text/plain": [
              "0.8954043926839401"
            ]
          },
          "metadata": {
            "tags": []
          },
          "execution_count": 348
        }
      ]
    },
    {
      "cell_type": "code",
      "metadata": {
        "id": "hYa737Gp_l-b",
        "colab_type": "code",
        "colab": {}
      },
      "source": [
        "y_predicted = model.predict(X)"
      ],
      "execution_count": 0,
      "outputs": []
    },
    {
      "cell_type": "markdown",
      "metadata": {
        "id": "1QZecA5c_-GJ",
        "colab_type": "text"
      },
      "source": [
        "Pretty close\n"
      ]
    },
    {
      "cell_type": "code",
      "metadata": {
        "id": "G7IfrfKN-1u7",
        "colab_type": "code",
        "colab": {
          "base_uri": "https://localhost:8080/",
          "height": 35
        },
        "outputId": "23a652f0-18c8-4741-b088-e2b5101cb20d"
      },
      "source": [
        "r2_score(y_predicted,Y)"
      ],
      "execution_count": 330,
      "outputs": [
        {
          "output_type": "execute_result",
          "data": {
            "text/plain": [
              "0.8831861802659482"
            ]
          },
          "metadata": {
            "tags": []
          },
          "execution_count": 330
        }
      ]
    },
    {
      "cell_type": "code",
      "metadata": {
        "id": "2Q5fGoWb_v0f",
        "colab_type": "code",
        "colab": {}
      },
      "source": [
        ""
      ],
      "execution_count": 0,
      "outputs": []
    }
  ]
}